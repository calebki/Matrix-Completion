{
 "cells": [
  {
   "cell_type": "code",
   "execution_count": 1,
   "metadata": {},
   "outputs": [],
   "source": [
    "import msprime as msp\n",
    "import numpy as np\n",
    "from numpy.linalg import matrix_rank\n",
    "import cvxpy as cp\n",
    "from datetime import datetime\n",
    "import matplotlib.pyplot as plt"
   ]
  },
  {
   "cell_type": "code",
   "execution_count": 14,
   "metadata": {},
   "outputs": [],
   "source": [
    "def generate_data(n, recombination_rate, seq_l, uniq_vals, l):\n",
    "    sims = msp.simulate(sample_size=n,\n",
    "                        mutation_rate=1e-8,\n",
    "                        recombination_rate=recombination_rate,\n",
    "                        Ne=2e4,\n",
    "                        length=seq_l)\n",
    "    pairs = [(i, j) for i in range(n) for j in range(n) if i < j]\n",
    "    nc2 = len(pairs)\n",
    "    mat = np.empty((nc2, seq_l))\n",
    "    begin = 0\n",
    "    for tree in sims.trees():\n",
    "        end = int(tree.interval[1])\n",
    "        tmrcas = np.array([tree.get_tmrca(i, j) for i, j in pairs])\n",
    "        mat[:,begin:end] = np.tile(tmrcas, (end-begin,1)).T\n",
    "        begin = end\n",
    "\n",
    "    M = np.rint(np.repeat(np.unique(mat, axis=1)[:,:uniq_vals], l/uniq_vals, axis=1))\n",
    "    dims = M.shape\n",
    "\n",
    "    return (M, dims)\n",
    "\n",
    "num_sims = 1\n",
    "n = 15\n",
    "recombination_rate = 1e-7\n",
    "seq_l = 10000\n",
    "uniq_vals = 10\n",
    "l = 250\n",
    "\n",
    "D1 = np.identity(l)\n",
    "neg_ones = np.repeat(-1,l-1)\n",
    "D2 = np.diag(neg_ones, 1)\n",
    "D = np.delete(D1 + D2, l-1, 0)\n",
    "\n",
    "#p_grid = np.arange(0.1, 1, 0.1)\n",
    "p_grid = np.array([0.8])\n",
    "num_p = p_grid.size\n",
    "lambda_grid = np.array([0, 10])\n",
    "num_lambda = lambda_grid.size\n",
    "\n",
    "error_mat = np.empty((num_lambda+1, num_p, num_sims))\n",
    "incorrect_guesses = np.empty((num_lambda+1, num_p, num_sims))\n",
    "\n",
    "start = datetime.now()\n",
    "lambda_10_list = []\n",
    "lambda_0_list = []\n",
    "fusion_list = []\n",
    "for i in range(num_sims):\n",
    "\n",
    "    while True:\n",
    "        M, dims = generate_data(n, recombination_rate, seq_l, uniq_vals, l)\n",
    "        if matrix_rank(M) == 10:\n",
    "            break\n",
    "    num_entries = dims[0] * dims[1]\n",
    "    M_total = np.sum(M)\n",
    "\n",
    "    for j in range(num_p):\n",
    "        p = p_grid[j]\n",
    "        Omega = np.ones(num_entries)\n",
    "        Omega[:int(num_entries * p)] = 0\n",
    "        Omega = np.random.permutation(Omega).reshape(dims)\n",
    "\n",
    "        for k in range(num_lambda):\n",
    "            lam = lambda_grid[k]\n",
    "\n",
    "            X = cp.Variable(dims)\n",
    "            objective = cp.Minimize(cp.norm(X, \"nuc\") + (lam * cp.pnorm(D @ X.T, 1)))\n",
    "            constraints = [cp.multiply(Omega, M) == cp.multiply(Omega, X)]\n",
    "            prob = cp.Problem(objective, constraints)\n",
    "            prob.solve()\n",
    "            error = (np.absolute(X.value - M)).sum()\n",
    "            error_mat[k,j,i] = error\n",
    "            incorrect_guesses[k,j,i] = np.sum(np.rint(X.value) != M)\n",
    "            if lam == 10:\n",
    "                lambda_10_list.append(X.value)\n",
    "            else:\n",
    "                lambda_0_list.append(X.value)\n",
    "        \n",
    "        X = cp.Variable(dims)\n",
    "        objective = cp.Minimize(cp.pnorm(D @ X.T, 1))\n",
    "        constraints = [cp.multiply(Omega, M) == cp.multiply(Omega, X)]\n",
    "        prob = cp.Problem(objective, constraints)\n",
    "        prob.solve()\n",
    "        error = (np.absolute(X.value - M)).sum()\n",
    "        error_mat[k+1,j,i] = error\n",
    "        incorrect_guesses[k+1,j,i] = np.sum(np.rint(X.value) != M)\n",
    "        fusion_list.append(X.value)"
   ]
  },
  {
   "cell_type": "code",
   "execution_count": 15,
   "metadata": {},
   "outputs": [
    {
     "name": "stdout",
     "output_type": "stream",
     "text": [
      "[[0.40952381]\n",
      " [0.0255619 ]\n",
      " [0.04386667]]\n"
     ]
    }
   ],
   "source": [
    "print(np.sum(incorrect_guesses, axis=2)/(105*500))"
   ]
  },
  {
   "cell_type": "code",
   "execution_count": 16,
   "metadata": {},
   "outputs": [
    {
     "data": {
      "text/plain": [
       "<matplotlib.image.AxesImage at 0x7ff35c6b6b70>"
      ]
     },
     "execution_count": 16,
     "metadata": {},
     "output_type": "execute_result"
    },
    {
     "data": {
      "image/png": "[encoded data removed]",
      "text/plain": [
       "<matplotlib.figure.Figure at 0x7ff398e55898>"
      ]
     },
     "metadata": {
      "needs_background": "light"
     },
     "output_type": "display_data"
    }
   ],
   "source": [
    "plt.imshow(fusion_list[0])"
   ]
  },
  {
   "cell_type": "code",
   "execution_count": 17,
   "metadata": {},
   "outputs": [
    {
     "data": {
      "text/plain": [
       "<matplotlib.image.AxesImage at 0x7ff35c069eb8>"
      ]
     },
     "execution_count": 17,
     "metadata": {},
     "output_type": "execute_result"
    },
    {
     "data": {
      "image/png": "[encoded data removed]",
      "text/plain": [
       "<matplotlib.figure.Figure at 0x7ff35c69c898>"
      ]
     },
     "metadata": {
      "needs_background": "light"
     },
     "output_type": "display_data"
    }
   ],
   "source": [
    "plt.imshow(lambda_10_list[0])"
   ]
  },
  {
   "cell_type": "code",
   "execution_count": 16,
   "metadata": {},
   "outputs": [
    {
     "name": "stdout",
     "output_type": "stream",
     "text": [
      "[28302. 28293. 28287. 28329. 28310. 27950. 28114. 28356. 28382. 28460.\n",
      " 28132. 28329. 28286. 28118. 28465. 28502. 28444. 28362. 28329. 28417.\n",
      " 28283. 28132. 28329. 27274. 28251. 28220. 28056. 28192. 28250. 28329.\n",
      " 28254. 28329. 28329. 28229. 28491. 28347. 28359. 28329. 28190. 28372.\n",
      " 28166. 28289. 28080. 28336. 28353. 28192. 28265. 28329. 28189. 28304.\n",
      " 28258. 28329. 28384. 28342. 28388. 28246. 28248. 28329. 28239. 28096.\n",
      " 28248. 28329. 28493. 28318. 28295. 28309. 28280. 28329. 28329. 28329.\n",
      " 28346. 28634. 28377. 28329. 28445. 28387. 28461. 28471. 28647. 28316.\n",
      " 28177. 28310. 28601. 28444. 28329. 28508. 28571. 28319. 28263. 28314.\n",
      " 28164. 28162. 28458. 28135. 28248. 28365. 28511. 28329. 28132. 28761.\n",
      " 28329. 28153. 28409. 28316. 28212. 28278. 28329. 28527. 28293. 27828.\n",
      " 28329. 28327. 27977. 28235. 28153. 28329. 28228. 28329. 28329. 26578.\n",
      " 28485. 28329. 28406. 28329. 28226. 28404. 28453. 28236. 28329. 28431.\n",
      " 28311. 28370. 28280. 28064. 28236. 28445. 28108. 28222. 28329. 28324.\n",
      " 28329. 28279. 28249. 28341. 28383. 28375. 28308. 28329. 28329. 28299.\n",
      " 28329. 28329. 28110. 28308. 27973. 28322. 28329. 28299. 28583. 28325.\n",
      " 28127. 26911. 27011. 27952. 28329. 28303. 28212. 28050. 28329. 28091.\n",
      " 28154. 28230. 28351. 28229. 26861. 28295. 28077. 28193. 28329. 28329.\n",
      " 28215. 28482. 28386. 28655. 27946. 28128. 27790. 28393. 28035. 28116.\n",
      " 28663. 28409. 28052. 28200. 30466. 27969. 28329. 28216. 28329. 28260.\n",
      " 30962. 31044. 31297. 31630. 29975. 31242. 31117. 30217. 31176. 31336.\n",
      " 31630. 31414. 31630. 31006. 31235. 31333. 31344. 31516. 31163. 31185.\n",
      " 31420. 31288. 31399. 31252. 31280. 31861. 32005. 31630. 32245. 31799.\n",
      " 31572. 31706. 31279. 31494. 31215. 31686. 31630. 31751. 31630. 31765.\n",
      " 31711. 32013. 31615. 31515. 31824. 31676. 31630. 31841. 32305. 31761.]\n"
     ]
    }
   ],
   "source": [
    "print(np.rint(X_lambda0[1,:]))"
   ]
  }
 ],
 "metadata": {
  "kernelspec": {
   "display_name": "Python 3",
   "language": "python",
   "name": "python3"
  },
  "language_info": {
   "codemirror_mode": {
    "name": "ipython",
    "version": 3
   },
   "file_extension": ".py",
   "mimetype": "text/x-python",
   "name": "python",
   "nbconvert_exporter": "python",
   "pygments_lexer": "ipython3",
   "version": "3.6.7"
  }
 },
 "nbformat": 4,
 "nbformat_minor": 2
}
